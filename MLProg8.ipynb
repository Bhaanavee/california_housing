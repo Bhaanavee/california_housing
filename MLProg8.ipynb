{
 "cells": [
  {
   "cell_type": "markdown",
   "id": "53d7022b-72e0-4f8f-8126-93ed6e9107fe",
   "metadata": {},
   "source": [
    "Develop a program to demonstrate the working of the decision\n",
    "tree algorithm. Use Breast Cancer Data set"
   ]
  },
  {
   "cell_type": "code",
   "execution_count": 4,
   "id": "b153a0e0-32bc-49e3-8ed7-059e94bbeb41",
   "metadata": {},
   "outputs": [],
   "source": [
    "import numpy as np\n",
    "import matplotlib.pyplot as plt\n",
    "from sklearn.tree import DecisionTreeClassifier, plot_tree\n",
    "from sklearn.datasets import load_breast_cancer\n",
    "from sklearn.model_selection import train_test_split\n",
    "from sklearn.preprocessing import MinMaxScaler\n",
    "from sklearn.metrics import accuracy_score\n"
   ]
  },
  {
   "cell_type": "code",
   "execution_count": 5,
   "id": "56d365a7-73e8-46c7-abbf-edc30946c66e",
   "metadata": {},
   "outputs": [],
   "source": [
    "data=load_breast_cancer()\n",
    "X,y=data.data, data.target"
   ]
  },
  {
   "cell_type": "code",
   "execution_count": 7,
   "id": "c704705c-3e2d-4f68-b525-235a9a7f8091",
   "metadata": {},
   "outputs": [],
   "source": [
    "X_train, X_test, y_train, y_test = train_test_split(X,y,test_size=0.3, random_state=42)"
   ]
  },
  {
   "cell_type": "raw",
   "id": "210397ba-0f2c-49b5-97ea-fda46d2e202d",
   "metadata": {},
   "source": []
  }
 ],
 "metadata": {
  "kernelspec": {
   "display_name": "Python 3 (ipykernel)",
   "language": "python",
   "name": "python3"
  },
  "language_info": {
   "codemirror_mode": {
    "name": "ipython",
    "version": 3
   },
   "file_extension": ".py",
   "mimetype": "text/x-python",
   "name": "python",
   "nbconvert_exporter": "python",
   "pygments_lexer": "ipython3",
   "version": "3.9.6"
  }
 },
 "nbformat": 4,
 "nbformat_minor": 5
}
