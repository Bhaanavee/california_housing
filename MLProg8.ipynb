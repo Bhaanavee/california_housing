{
 "cells": [
  {
   "cell_type": "markdown",
   "id": "53d7022b-72e0-4f8f-8126-93ed6e9107fe",
   "metadata": {},
   "source": [
    "Develop a program to demonstrate the working of the decision\n",
    "tree algorithm. Use Breast Cancer Data set"
   ]
  },
  {
   "cell_type": "code",
   "execution_count": null,
   "id": "b153a0e0-32bc-49e3-8ed7-059e94bbeb41",
   "metadata": {},
   "outputs": [],
   "source": []
  },
  {
   "cell_type": "code",
   "execution_count": null,
   "id": "d935c5e0-e7ff-4a14-baa5-51e9f9fb491c",
   "metadata": {},
   "outputs": [],
   "source": []
  }
 ],
 "metadata": {
  "kernelspec": {
   "display_name": "Python 3 (ipykernel)",
   "language": "python",
   "name": "python3"
  },
  "language_info": {
   "codemirror_mode": {
    "name": "ipython",
    "version": 3
   },
   "file_extension": ".py",
   "mimetype": "text/x-python",
   "name": "python",
   "nbconvert_exporter": "python",
   "pygments_lexer": "ipython3",
   "version": "3.9.6"
  }
 },
 "nbformat": 4,
 "nbformat_minor": 5
}
