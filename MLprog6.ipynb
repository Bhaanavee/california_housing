{
 "cells": [
  {
   "cell_type": "markdown",
   "id": "b5adf443-648b-497f-848a-47d5cf1b2358",
   "metadata": {},
   "source": [
    "Implement the non-parametric Locally Weighted Regression\n",
    "algorithm in order to fit data points."
   ]
  },
  {
   "cell_type": "code",
   "execution_count": 1,
   "id": "0bcf8e27-75b9-468a-bac8-22f06b815a89",
   "metadata": {},
   "outputs": [],
   "source": [
    "import numpy as np\n",
    "import matplotlib.pyplot as plt"
   ]
  },
  {
   "cell_type": "code",
   "execution_count": 2,
   "id": "e72973a3-58c0-4bec-ad01-b6ab26aa59cf",
   "metadata": {},
   "outputs": [],
   "source": [
    "np.random.seed(42)\n",
    "X=np.linspace(-3,3,100).reshape(-1,1)\n",
    "y=np.sin(X).ravel()+ np.random.normal(scale=0.1,size = X.shape[0])"
   ]
  },
  {
   "cell_type": "code",
   "execution_count": 3,
   "id": "be897a48-ce3f-4cbf-97d9-15210879466d",
   "metadata": {},
   "outputs": [],
   "source": [
    "def lwr(x_query, X_train, y_train, tau):\n",
    "    W=np.exp( -((X_train-x_query)**2)/(2*tau**2))\n",
    "    X_bias=np.c_[np.ones_like(X_train),X_train]\n",
    "    theta= np.linalg.pinv(X_bias.T @ np.diag(W.ravel()) @ X_bias) @ X_bias.T @ np.diag(W.ravel()) @ y_train\n",
    "    return np.array([1,x_query]) @ theta"
   ]
  },
  {
   "cell_type": "code",
   "execution_count": 5,
   "id": "13919c88-1cff-46c0-8acf-d42aae36bc2e",
   "metadata": {},
   "outputs": [],
   "source": [
    "X_test = np.linspace(-3,3,100)\n",
    "y_pred = np.array([lwr(x, X, y, tau=0.5) for x in X_test])"
   ]
  },
  {
   "cell_type": "code",
   "execution_count": null,
   "id": "e8ee43a0-9f96-4bf3-8ea5-6386cb341b35",
   "metadata": {},
   "outputs": [],
   "source": [
    "plt.scatter(X, y , color=\"gray\", )"
   ]
  }
 ],
 "metadata": {
  "kernelspec": {
   "display_name": "Python 3 (ipykernel)",
   "language": "python",
   "name": "python3"
  },
  "language_info": {
   "codemirror_mode": {
    "name": "ipython",
    "version": 3
   },
   "file_extension": ".py",
   "mimetype": "text/x-python",
   "name": "python",
   "nbconvert_exporter": "python",
   "pygments_lexer": "ipython3",
   "version": "3.9.6"
  }
 },
 "nbformat": 4,
 "nbformat_minor": 5
}
