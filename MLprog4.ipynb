{
 "cells": [
  {
   "cell_type": "code",
   "execution_count": 2,
   "id": "db25a0cd-d2d8-46fe-aca0-fb2d86b6357f",
   "metadata": {},
   "outputs": [],
   "source": [
    "import numpy as np\n",
    "import pandas as pd"
   ]
  },
  {
   "cell_type": "code",
   "execution_count": 8,
   "id": "ae0a8520-5a15-4305-9a37-43a367b28863",
   "metadata": {},
   "outputs": [
    {
     "name": "stdout",
     "output_type": "stream",
     "text": [
      "Data:\n",
      "   Sunny  Warm Normal  Strong Warm.1    Same  Yes\n",
      "0  Sunny  Warm   High  Strong   Warm    Same  Yes\n",
      "1  Rainy  Cold   High  Strong   Warm  Change   No\n",
      "2  Sunny  Warm   High  Strong   Cool  Change  Yes\n",
      "Final Hypothesis: ['Sunny', 'Warm', 'High', 'Strong', '?', '?']\n"
     ]
    }
   ],
   "source": [
    "def find_s(file_path):\n",
    "    data=pd.read_csv(file_path)\n",
    "    print(\"Data:\")\n",
    "    print(data)\n",
    "    attributes = data.columns[:-1]\n",
    "    class_label=data.columns[-1]\n",
    "    hypothesis=['?' for _ in attributes]\n",
    "    for index, row in data.iterrows():\n",
    "        if row[class_label]=='Yes':\n",
    "            for i,value in enumerate(row[attributes]):\n",
    "                if hypothesis[i]=='?' or hypothesis[i]==value:\n",
    "                    hypothesis[i]=value\n",
    "                else:\n",
    "                    hypothesis[i]='?'\n",
    "    return hypothesis\n",
    "\n",
    "print(\"Final Hypothesis:\",find_s('/Users/bhaanaveecs/Documents/JUPYTER_CODES/ws.csv'))"
   ]
  },
  {
   "cell_type": "code",
   "execution_count": null,
   "id": "15590673-94fa-4679-8016-cb5255332baa",
   "metadata": {},
   "outputs": [],
   "source": []
  }
 ],
 "metadata": {
  "kernelspec": {
   "display_name": "Python 3 (ipykernel)",
   "language": "python",
   "name": "python3"
  },
  "language_info": {
   "codemirror_mode": {
    "name": "ipython",
    "version": 3
   },
   "file_extension": ".py",
   "mimetype": "text/x-python",
   "name": "python",
   "nbconvert_exporter": "python",
   "pygments_lexer": "ipython3",
   "version": "3.9.6"
  }
 },
 "nbformat": 4,
 "nbformat_minor": 5
}
