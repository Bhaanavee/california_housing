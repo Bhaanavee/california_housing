{
 "cells": [
  {
   "cell_type": "markdown",
   "id": "8a502716-fb5a-4a5a-9587-387e95d9c627",
   "metadata": {},
   "source": [
    "Develop a program to demonstrate the working of Linear\n",
    "Regression and Polynomial Regression. Use\n",
    "Boston Housing Dataset for Linear Regression and Auto MPG\n",
    "Dataset (for vehicle fuel efficiency prediction)\n",
    "for Polynomial Regression."
   ]
  },
  {
   "cell_type": "code",
   "execution_count": 7,
   "id": "e629d249-47af-47b1-adc9-2ab8f17e670a",
   "metadata": {},
   "outputs": [
    {
     "name": "stdout",
     "output_type": "stream",
     "text": [
      "Running Polynomial Regression on Auto MPG Dataset...\n"
     ]
    }
   ],
   "source": [
    "print(\"Running Polynomial Regression on Auto MPG Dataset...\")\n",
    "\n",
    "# Load Auto MPG dataset\n",
    "auto_url = \"https://raw.githubusercontent.com/mwaskom/seaborn-data/master/mpg.csv\"\n",
    "auto_data = pd.read_csv(auto_url)\n",
    "auto_data.dropna(inplace=True)\n"
   ]
  },
  {
   "cell_type": "code",
   "execution_count": 8,
   "id": "c6020009-bdfd-4c12-aeaa-374de282121b",
   "metadata": {},
   "outputs": [],
   "source": [
    "# Use 'horsepower' to predict 'mpg'\n",
    "X_auto = auto_data[['horsepower']]\n",
    "y_auto = auto_data['mpg']\n",
    "\n",
    "# Split data\n",
    "X_train_auto, X_test_auto, y_train_auto, y_test_auto = train_test_split(X_auto, y_auto, test_size=0.2, random_state=42)\n"
   ]
  },
  {
   "cell_type": "code",
   "execution_count": null,
   "id": "7430e45a-4145-4138-922e-42f4b0511166",
   "metadata": {},
   "outputs": [],
   "source": []
  }
 ],
 "metadata": {
  "kernelspec": {
   "display_name": "Python 3 (ipykernel)",
   "language": "python",
   "name": "python3"
  },
  "language_info": {
   "codemirror_mode": {
    "name": "ipython",
    "version": 3
   },
   "file_extension": ".py",
   "mimetype": "text/x-python",
   "name": "python",
   "nbconvert_exporter": "python",
   "pygments_lexer": "ipython3",
   "version": "3.9.6"
  }
 },
 "nbformat": 4,
 "nbformat_minor": 5
}
